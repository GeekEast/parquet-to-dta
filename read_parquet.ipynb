{
 "cells": [
  {
   "cell_type": "code",
   "execution_count": null,
   "id": "ae55e3ec",
   "metadata": {},
   "outputs": [],
   "source": []
  }
 ],
 "metadata": {
  "kernelspec": {
   "display_name": "Python 3.9.7 ('base')",
   "language": "python",
   "name": "python3"
  },
  "language_info": {
   "codemirror_mode": {
    "name": "ipython",
    "version": 3
   },
   "file_extension": ".py",
   "mimetype": "text/x-python",
   "name": "python",
   "nbconvert_exporter": "python",
   "pygments_lexer": "ipython3",
   "version": "3.9.7"
  },
  "vscode": {
   "interpreter": {
    "hash": "e0ae68449c4157e284b590823635cc97640f29a325f8a583cc7eb55d7e317ab8"
   }
  }
 },
 "nbformat": 4,
 "nbformat_minor": 5
}
